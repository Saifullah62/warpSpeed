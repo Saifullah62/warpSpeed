{
 "cells": [
  {
   "cell_type": "markdown",
   "metadata": {},
   "source": [
    "# Basic Usage of Warp Drive Research Dataset\n",
    "\n",
    "This notebook demonstrates basic loading and exploration of the dataset."
   ]
  },
  {
   "cell_type": "code",
   "execution_count": null,
   "metadata": {},
   "source": [
    "from datasets import load_dataset\n",
    "import pandas as pd\n",
    "import matplotlib.pyplot as plt\n",
    "import seaborn as sns\n",
    "\n",
    "# Load the dataset\n",
    "dataset = load_dataset(\"GotThatData/warp-speed\")"
   ]
  },
  {
   "cell_type": "markdown",
   "metadata": {},
   "source": [
    "## Dataset Overview"
   ]
  },
  {
   "cell_type": "code",
   "execution_count": null,
   "metadata": {},
   "source": [
    "# Basic information\n",
    "print(f\"Dataset size: {len(dataset)}\")\n",
    "print(f\"Features: {dataset.features}\")\n",
    "\n",
    "# Show first few entries\n",
    "dataset[:5]"
   ]
  },
  {
   "cell_type": "markdown",
   "metadata": {},
   "source": [
    "## Category Distribution"
   ]
  },
  {
   "cell_type": "code",
   "execution_count": null,
   "metadata": {},
   "source": [
    "# Convert to pandas for easier analysis\n",
    "df = pd.DataFrame(dataset)\n",
    "\n",
    "# Plot category distribution\n",
    "plt.figure(figsize=(12, 6))\n",
    "sns.countplot(data=df, y='category', order=df['category'].value_counts().index)\n",
    "plt.title('Papers by Category')\n",
    "plt.show()"
   ]
  },
  {
   "cell_type": "markdown",
   "metadata": {},
   "source": [
    "## Basic Filtering"
   ]
  },
  {
   "cell_type": "code",
   "execution_count": null,
   "metadata": {},
   "source": [
    "# Filter papers by category\n",
    "physics_papers = dataset.filter(lambda x: x['category'] == 'physics')\n",
    "print(f\"Number of physics papers: {len(physics_papers)}\")\n",
    "\n",
    "# Filter by keyword in abstract\n",
    "warp_papers = dataset.filter(lambda x: 'warp' in x['abstract'].lower())\n",
    "print(f\"Number of papers mentioning 'warp': {len(warp_papers)}\")"
   ]
  },
  {
   "cell_type": "markdown",
   "metadata": {},
   "source": [
    "## Text Analysis"
   ]
  },
  {
   "cell_type": "code",
   "execution_count": null,
   "metadata": {},
   "source": [
    "from collections import Counter\n",
    "import nltk\n",
    "from nltk.corpus import stopwords\n",
    "\n",
    "# Download required NLTK data\n",
    "nltk.download('stopwords')\n",
    "nltk.download('punkt')\n",
    "\n",
    "# Function to get keywords from text\n",
    "def get_keywords(text):\n",
    "    words = nltk.word_tokenize(text.lower())\n",
    "    stops = set(stopwords.words('english'))\n",
    "    keywords = [w for w in words if w.isalnum() and w not in stops]\n",
    "    return keywords\n",
    "\n",
    "# Analyze keywords in abstracts\n",
    "all_keywords = []\n",
    "for paper in dataset:\n",
    "    all_keywords.extend(get_keywords(paper['abstract']))\n",
    "\n",
    "# Plot top keywords\n",
    "keyword_freq = Counter(all_keywords).most_common(20)\n",
    "keywords, counts = zip(*keyword_freq)\n",
    "\n",
    "plt.figure(figsize=(12, 6))\n",
    "plt.bar(keywords, counts)\n",
    "plt.xticks(rotation=45, ha='right')\n",
    "plt.title('Top 20 Keywords in Abstracts')\n",
    "plt.tight_layout()\n",
    "plt.show()"
   ]
  }
 ],
 "metadata": {
  "kernelspec": {
   "display_name": "Python 3",
   "language": "python",
   "name": "python3"
  },
  "language_info": {
   "codemirror_mode": {
    "name": "ipython",
    "version": 3
   },
   "file_extension": ".py",
   "mimetype": "text/x-python",
   "name": "python",
   "nbconvert_exporter": "python",
   "pygments_lexer": "ipython3",
   "version": "3.8.0"
  }
 },
 "nbformat": 4,
 "nbformat_minor": 4
}
