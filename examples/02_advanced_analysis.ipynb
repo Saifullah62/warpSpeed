{
 "cells": [
  {
   "cell_type": "markdown",
   "metadata": {},
   "source": [
    "# Advanced Analysis of Warp Drive Research Dataset\n",
    "\n",
    "This notebook demonstrates advanced analysis techniques including:\n",
    "- Citation network analysis\n",
    "- Topic modeling\n",
    "- Research trend analysis\n",
    "- Cross-domain connections"
   ]
  },
  {
   "cell_type": "code",
   "execution_count": null,
   "metadata": {},
   "source": [
    "from datasets import load_dataset\n",
    "import pandas as pd\n",
    "import numpy as np\n",
    "import networkx as nx\n",
    "from sklearn.feature_extraction.text import TfidfVectorizer\n",
    "from sklearn.decomposition import LatentDirichletAllocation\n",
    "import matplotlib.pyplot as plt\n",
    "import seaborn as sns\n",
    "\n",
    "# Load dataset\n",
    "dataset = load_dataset(\"GotThatData/warp-speed\")\n",
    "df = pd.DataFrame(dataset)"
   ]
  },
  {
   "cell_type": "markdown",
   "metadata": {},
   "source": [
    "## Citation Network Analysis"
   ]
  },
  {
   "cell_type": "code",
   "execution_count": null,
   "metadata": {},
   "source": [
    "# Create citation network\n",
    "G = nx.DiGraph()\n",
    "\n",
    "# Add nodes and edges\n",
    "for paper in dataset:\n",
    "    G.add_node(paper['id'], title=paper['title'])\n",
    "    for ref in paper['references']:\n",
    "        G.add_edge(paper['id'], ref)\n",
    "\n",
    "# Calculate network metrics\n",
    "in_degree = dict(G.in_degree())\n",
    "pagerank = nx.pagerank(G)\n",
    "\n",
    "# Plot top cited papers\n",
    "top_cited = sorted(in_degree.items(), key=lambda x: x[1], reverse=True)[:10]\n",
    "papers, citations = zip(*top_cited)\n",
    "\n",
    "plt.figure(figsize=(12, 6))\n",
    "plt.bar(papers, citations)\n",
    "plt.xticks(rotation=45, ha='right')\n",
    "plt.title('Top 10 Most Cited Papers')\n",
    "plt.tight_layout()\n",
    "plt.show()"
   ]
  },
  {
   "cell_type": "markdown",
   "metadata": {},
   "source": [
    "## Topic Modeling"
   ]
  },
  {
   "cell_type": "code",
   "execution_count": null,
   "metadata": {},
   "source": [
    "# Prepare text data\n",
    "vectorizer = TfidfVectorizer(max_features=1000, stop_words='english')\n",
    "X = vectorizer.fit_transform(df['abstract'])\n",
    "\n",
    "# Train LDA model\n",
    "n_topics = 10\n",
    "lda = LatentDirichletAllocation(n_components=n_topics, random_state=42)\n",
    "lda.fit(X)\n",
    "\n",
    "# Print top words for each topic\n",
    "feature_names = vectorizer.get_feature_names()\n",
    "for topic_idx, topic in enumerate(lda.components_):\n",
    "    top_words = [feature_names[i] for i in topic.argsort()[:-10:-1]]\n",
    "    print(f\"Topic {topic_idx + 1}: {', '.join(top_words)}\")"
   ]
  },
  {
   "cell_type": "markdown",
   "metadata": {},
   "source": [
    "## Research Trend Analysis"
   ]
  },
  {
   "cell_type": "code",
   "execution_count": null,
   "metadata": {},
   "source": [
    "# Convert dates to datetime\n",
    "df['date'] = pd.to_datetime(df['publication_date'])\n",
    "\n",
    "# Group by date and category\n",
    "trends = df.groupby([pd.Grouper(key='date', freq='M'), 'category']).size().unstack()\n",
    "\n",
    "# Plot trends\n",
    "plt.figure(figsize=(15, 8))\n",
    "trends.plot(kind='line', marker='o')\n",
    "plt.title('Research Trends by Category')\n",
    "plt.xlabel('Date')\n",
    "plt.ylabel('Number of Papers')\n",
    "plt.legend(bbox_to_anchor=(1.05, 1), loc='upper left')\n",
    "plt.tight_layout()\n",
    "plt.show()"
   ]
  },
  {
   "cell_type": "markdown",
   "metadata": {},
   "source": [
    "## Cross-Domain Connections"
   ]
  },
  {
   "cell_type": "code",
   "execution_count": null,
   "metadata": {},
   "source": [
    "# Create co-occurrence matrix\n",
    "categories = df['category'].unique()\n",
    "cooccurrence = np.zeros((len(categories), len(categories)))\n",
    "\n",
    "# Count papers that reference across categories\n",
    "for i, cat1 in enumerate(categories):\n",
    "    for j, cat2 in enumerate(categories):\n",
    "        if i != j:\n",
    "            papers1 = set(df[df['category'] == cat1]['id'])\n",
    "            papers2 = set(df[df['category'] == cat2]['id'])\n",
    "            references = 0\n",
    "            for paper_id in papers1:\n",
    "                paper = dataset[paper_id]\n",
    "                refs = set(paper['references'])\n",
    "                references += len(refs.intersection(papers2))\n",
    "            cooccurrence[i, j] = references\n",
    "\n",
    "# Plot heatmap\n",
    "plt.figure(figsize=(12, 10))\n",
    "sns.heatmap(cooccurrence, xticklabels=categories, yticklabels=categories,\n",
    "            annot=True, fmt='d', cmap='YlOrRd')\n",
    "plt.title('Cross-Domain Citations')\n",
    "plt.tight_layout()\n",
    "plt.show()"
   ]
  }
 ],
 "metadata": {
  "kernelspec": {
   "display_name": "Python 3",
   "language": "python",
   "name": "python3"
  },
  "language_info": {
   "codemirror_mode": {
    "name": "ipython",
    "version": 3
   },
   "file_extension": ".py",
   "mimetype": "text/x-python",
   "name": "python",
   "nbconvert_exporter": "python",
   "pygments_lexer": "ipython3",
   "version": "3.8.0"
  }
 },
 "nbformat": 4,
 "nbformat_minor": 4
}
